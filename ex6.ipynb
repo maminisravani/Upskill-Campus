{
  "nbformat": 4,
  "nbformat_minor": 0,
  "metadata": {
    "colab": {
      "provenance": [],
      "authorship_tag": "ABX9TyPbcDSpDtw3z+jSVTqmqTWY",
      "include_colab_link": true
    },
    "kernelspec": {
      "name": "python3",
      "display_name": "Python 3"
    },
    "language_info": {
      "name": "python"
    }
  },
  "cells": [
    {
      "cell_type": "markdown",
      "metadata": {
        "id": "view-in-github",
        "colab_type": "text"
      },
      "source": [
        "<a href=\"https://colab.research.google.com/github/maminisravani/Upskill-Campus/blob/main/ex6.ipynb\" target=\"_parent\"><img src=\"https://colab.research.google.com/assets/colab-badge.svg\" alt=\"Open In Colab\"/></a>"
      ]
    },
    {
      "cell_type": "code",
      "execution_count": null,
      "metadata": {
        "id": "o29D-PJg8Nxz"
      },
      "outputs": [],
      "source": [
        "import numpy as np\n",
        "from tensorflow.keras.datasets import reuters\n",
        "from tensorflow.keras.models import Sequential\n",
        "from tensorflow.keras.layers import Dense,Embedding,LSTM\n",
        "from tensorflow.keras.preprocessing.sequence import pad_sequences\n",
        "from tensorflow.keras.utils import to_categorical\n",
        "from sklearn.model_selection import train_test_split\n"
      ]
    },
    {
      "cell_type": "code",
      "source": [
        "max_words=10000\n",
        "(X_train,y_train),(X_test,y_test)=reuters.load_data(num_words=max_words,test_split=0.2)"
      ],
      "metadata": {
        "colab": {
          "base_uri": "https://localhost:8080/"
        },
        "id": "jGPJC5q7_ptk",
        "outputId": "9aa40565-e491-4216-dd5a-0d51b70a174a"
      },
      "execution_count": null,
      "outputs": [
        {
          "output_type": "stream",
          "name": "stdout",
          "text": [
            "Downloading data from https://storage.googleapis.com/tensorflow/tf-keras-datasets/reuters.npz\n",
            "2110848/2110848 [==============================] - 0s 0us/step\n"
          ]
        }
      ]
    },
    {
      "cell_type": "code",
      "source": [
        "max_len=100\n",
        "X_train=pad_sequences(X_train,maxlen=max_len)\n",
        "X_test=pad_sequences(X_test,maxlen=max_len)"
      ],
      "metadata": {
        "id": "tsP4u5I4BM6K"
      },
      "execution_count": null,
      "outputs": []
    },
    {
      "cell_type": "code",
      "source": [
        "y_train=to_categorical(y_train,num_classes=46)\n",
        "y_test=to_categorical(y_test,num_classes=46)"
      ],
      "metadata": {
        "id": "spykq5RVCHOX"
      },
      "execution_count": null,
      "outputs": []
    },
    {
      "cell_type": "code",
      "source": [
        "X_train,X_val,y_train,y_val=train_test_split(X_train,y_train,test_size=0.2)\n",
        "model=Sequential()\n",
        "model.add(Embedding(max_words,128,input_length=max_len))\n",
        "model.add(LSTM(64,dropout=0.2,recurrent_dropout=0.2))\n",
        "model.add(Dense(46,activation='softmax'))"
      ],
      "metadata": {
        "id": "H7OWRVnKCmWn"
      },
      "execution_count": null,
      "outputs": []
    },
    {
      "cell_type": "code",
      "source": [
        "model.compile(optimizer='adam',loss='categorical_crossentropy',metrics=['accuracy'])"
      ],
      "metadata": {
        "id": "S0iJg5PWEXO2"
      },
      "execution_count": null,
      "outputs": []
    },
    {
      "cell_type": "code",
      "source": [
        "epochs=5\n",
        "batch_size=32\n",
        "model.fit(X_train,y_train,validation_data=(X_val,y_val),epochs=epochs,batch_size=batch_size)"
      ],
      "metadata": {
        "colab": {
          "base_uri": "https://localhost:8080/"
        },
        "id": "0ZBXJtlSEoek",
        "outputId": "ae4d9149-583e-4e08-d935-13faf2254a74"
      },
      "execution_count": null,
      "outputs": [
        {
          "output_type": "stream",
          "name": "stdout",
          "text": [
            "Epoch 1/5\n",
            "180/180 [==============================] - 42s 209ms/step - loss: 2.5525 - accuracy: 0.3398 - val_loss: 2.4272 - val_accuracy: 0.3507\n",
            "Epoch 2/5\n",
            "180/180 [==============================] - 38s 209ms/step - loss: 1.9765 - accuracy: 0.4906 - val_loss: 1.9264 - val_accuracy: 0.4669\n",
            "Epoch 3/5\n",
            "180/180 [==============================] - 38s 211ms/step - loss: 1.6419 - accuracy: 0.5715 - val_loss: 1.7675 - val_accuracy: 0.5651\n",
            "Epoch 4/5\n",
            "180/180 [==============================] - 38s 210ms/step - loss: 1.4318 - accuracy: 0.6380 - val_loss: 1.6168 - val_accuracy: 0.6026\n",
            "Epoch 5/5\n",
            "180/180 [==============================] - 38s 210ms/step - loss: 1.2355 - accuracy: 0.6825 - val_loss: 1.5754 - val_accuracy: 0.6152\n"
          ]
        },
        {
          "output_type": "execute_result",
          "data": {
            "text/plain": [
              "<keras.src.callbacks.History at 0x7dc5bfa1a9b0>"
            ]
          },
          "metadata": {},
          "execution_count": 28
        }
      ]
    },
    {
      "cell_type": "code",
      "source": [
        "loss,accuracy=model.evaluate(X_test,y_test)\n",
        "print(f\"Test Loss:{loss:.4f},Test Accuracy:{accuracy:.4f}\")"
      ],
      "metadata": {
        "colab": {
          "base_uri": "https://localhost:8080/"
        },
        "id": "blG61hOdFgYk",
        "outputId": "77ad2c01-3bec-4b20-c449-5bd904710956"
      },
      "execution_count": null,
      "outputs": [
        {
          "output_type": "stream",
          "name": "stdout",
          "text": [
            "71/71 [==============================] - 2s 24ms/step - loss: 3.8175 - accuracy: 0.2057\n",
            "Test Loss:3.8175,Test Accuracy:0.2057\n"
          ]
        }
      ]
    }
  ]
}