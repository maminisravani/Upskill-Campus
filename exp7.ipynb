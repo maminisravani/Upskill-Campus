{
  "nbformat": 4,
  "nbformat_minor": 0,
  "metadata": {
    "colab": {
      "provenance": [],
      "authorship_tag": "ABX9TyOaVR7Pb/pWzcz4p0Ys+inU",
      "include_colab_link": true
    },
    "kernelspec": {
      "name": "python3",
      "display_name": "Python 3"
    },
    "language_info": {
      "name": "python"
    }
  },
  "cells": [
    {
      "cell_type": "markdown",
      "metadata": {
        "id": "view-in-github",
        "colab_type": "text"
      },
      "source": [
        "<a href=\"https://colab.research.google.com/github/maminisravani/Upskill-Campus/blob/main/exp7.ipynb\" target=\"_parent\"><img src=\"https://colab.research.google.com/assets/colab-badge.svg\" alt=\"Open In Colab\"/></a>"
      ]
    },
    {
      "cell_type": "code",
      "source": [
        "import numpy as np\n",
        "from tensorflow.keras.datasets import mnist\n",
        "from tensorflow.keras.models import Sequential\n",
        "from tensorflow.keras.layers import Conv2D, MaxPooling2D, Flatten, Dense\n",
        "from tensorflow.keras.utils import to_categorical\n",
        "from sklearn.model_selection import train_test_split"
      ],
      "metadata": {
        "id": "dDI0QgIcHns4"
      },
      "execution_count": null,
      "outputs": []
    },
    {
      "cell_type": "code",
      "source": [
        "(X_train,y_train),(X_test,y_test)=mnist.load_data()\n"
      ],
      "metadata": {
        "colab": {
          "base_uri": "https://localhost:8080/"
        },
        "id": "1nYI2fmNIj5a",
        "outputId": "4fa5bc3a-a5ad-41a7-d961-cf9b53774bb9"
      },
      "execution_count": null,
      "outputs": [
        {
          "output_type": "stream",
          "name": "stdout",
          "text": [
            "Downloading data from https://storage.googleapis.com/tensorflow/tf-keras-datasets/mnist.npz\n",
            "11490434/11490434 [==============================] - 0s 0us/step\n"
          ]
        }
      ]
    },
    {
      "cell_type": "code",
      "source": [
        "X_train=np.expand_dims(X_train,axis=-1)\n",
        "X_test=np.expand_dims(X_test,axis=-1)"
      ],
      "metadata": {
        "id": "v9br_mViJlTo"
      },
      "execution_count": 5,
      "outputs": []
    },
    {
      "cell_type": "code",
      "source": [
        "y_train=to_categorical(y_train,10)\n",
        "y_test=to_categorical(y_test,10)\n"
      ],
      "metadata": {
        "id": "SHld4oj8MCV4"
      },
      "execution_count": 6,
      "outputs": []
    },
    {
      "cell_type": "code",
      "source": [
        "X_train,X_val,y_train,y_val=train_test_split(X_train,y_train,test_size=42)\n"
      ],
      "metadata": {
        "id": "AIJHYNnJMUFT"
      },
      "execution_count": 7,
      "outputs": []
    },
    {
      "cell_type": "code",
      "source": [
        "model=Sequential()\n",
        "model.add(Conv2D(32,kernel_size=(3,3),activation='relu',input_shape=(28,28,1)))\n",
        "model.add(MaxPooling2D(pool_size=(2,2)))\n",
        "model.add(Conv2D(64,kernel_size=(3,3),activation='relu'))\n",
        "model.add(MaxPooling2D(pool_size=(2,2)))\n",
        "model.add(Flatten())\n",
        "model.add(Dense(128,activation='relu'))\n",
        "model.add(Dense(10,activation='softmax'))"
      ],
      "metadata": {
        "id": "fmlP9uGQMkOu"
      },
      "execution_count": 8,
      "outputs": []
    },
    {
      "cell_type": "code",
      "source": [
        "model.compile(optimizer='adam',loss='categorical_crossentropy',metrics=['accuracy'])"
      ],
      "metadata": {
        "id": "20bwdl2VOHS8"
      },
      "execution_count": 9,
      "outputs": []
    },
    {
      "cell_type": "code",
      "source": [
        "epochs=10\n",
        "batch_size=128\n",
        "model.fit(X_train,y_train,validation_data=(X_val,y_val),epochs=epochs,batch_size=batch_size)"
      ],
      "metadata": {
        "colab": {
          "base_uri": "https://localhost:8080/"
        },
        "id": "EXg_5x94OmRk",
        "outputId": "1add8e8c-3c5f-4621-b53a-987415f481b7"
      },
      "execution_count": 10,
      "outputs": [
        {
          "output_type": "stream",
          "name": "stdout",
          "text": [
            "Epoch 1/10\n",
            "469/469 [==============================] - 50s 103ms/step - loss: 0.9294 - accuracy: 0.9120 - val_loss: 0.1422 - val_accuracy: 0.9524\n",
            "Epoch 2/10\n",
            "469/469 [==============================] - 45s 95ms/step - loss: 0.0644 - accuracy: 0.9801 - val_loss: 0.0886 - val_accuracy: 0.9762\n",
            "Epoch 3/10\n",
            "469/469 [==============================] - 45s 96ms/step - loss: 0.0412 - accuracy: 0.9871 - val_loss: 0.0719 - val_accuracy: 0.9762\n",
            "Epoch 4/10\n",
            "469/469 [==============================] - 42s 90ms/step - loss: 0.0316 - accuracy: 0.9899 - val_loss: 0.1010 - val_accuracy: 0.9762\n",
            "Epoch 5/10\n",
            "469/469 [==============================] - 41s 88ms/step - loss: 0.0232 - accuracy: 0.9923 - val_loss: 0.0478 - val_accuracy: 0.9762\n",
            "Epoch 6/10\n",
            "469/469 [==============================] - 41s 88ms/step - loss: 0.0223 - accuracy: 0.9925 - val_loss: 0.0053 - val_accuracy: 1.0000\n",
            "Epoch 7/10\n",
            "469/469 [==============================] - 43s 91ms/step - loss: 0.0205 - accuracy: 0.9930 - val_loss: 0.0450 - val_accuracy: 0.9524\n",
            "Epoch 8/10\n",
            "469/469 [==============================] - 42s 89ms/step - loss: 0.0213 - accuracy: 0.9926 - val_loss: 0.0207 - val_accuracy: 1.0000\n",
            "Epoch 9/10\n",
            "469/469 [==============================] - 41s 88ms/step - loss: 0.0172 - accuracy: 0.9945 - val_loss: 0.0014 - val_accuracy: 1.0000\n",
            "Epoch 10/10\n",
            "469/469 [==============================] - 41s 87ms/step - loss: 0.0157 - accuracy: 0.9949 - val_loss: 0.0924 - val_accuracy: 0.9762\n"
          ]
        },
        {
          "output_type": "execute_result",
          "data": {
            "text/plain": [
              "<keras.src.callbacks.History at 0x78c077b96b30>"
            ]
          },
          "metadata": {},
          "execution_count": 10
        }
      ]
    },
    {
      "cell_type": "code",
      "source": [
        "loss,accuracy=model.evaluate(X_test,y_test)\n",
        "print(f\"Test Loss: {loss:.4f}, Test Accuracy: {accuracy:.4f}\")"
      ],
      "metadata": {
        "colab": {
          "base_uri": "https://localhost:8080/"
        },
        "id": "7Hh5KuGRPMH1",
        "outputId": "f6e171ef-9e74-4d80-93d6-259ef0aa3826"
      },
      "execution_count": 14,
      "outputs": [
        {
          "output_type": "stream",
          "name": "stdout",
          "text": [
            "313/313 [==============================] - 2s 8ms/step - loss: 0.0682 - accuracy: 0.9826\n",
            "Test Loss: 0.0682, Test Accuracy: 0.9826\n"
          ]
        }
      ]
    }
  ]
}